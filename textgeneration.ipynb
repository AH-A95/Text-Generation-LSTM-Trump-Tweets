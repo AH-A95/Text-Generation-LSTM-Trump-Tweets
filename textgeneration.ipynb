{
  "cells": [
    {
      "metadata": {
        "trusted": true
      },
      "cell_type": "code",
      "source": "import pandas as pd\nimport tensorflow as tf\nimport numpy as np\nfrom keras.models import Sequential\nfrom keras.layers import Dense\nfrom keras.layers import Dropout\nfrom keras.layers import LSTM, BatchNormalization\ntweets = pd.read_csv('realdonaldtrump.csv')\ntweets.head(15)",
      "execution_count": 1,
      "outputs": [
        {
          "output_type": "stream",
          "text": "Using TensorFlow backend.\n",
          "name": "stderr"
        },
        {
          "output_type": "execute_result",
          "execution_count": 1,
          "data": {
            "text/html": "<div>\n<style scoped>\n    .dataframe tbody tr th:only-of-type {\n        vertical-align: middle;\n    }\n\n    .dataframe tbody tr th {\n        vertical-align: top;\n    }\n\n    .dataframe thead th {\n        text-align: right;\n    }\n</style>\n<table border=\"1\" class=\"dataframe\">\n  <thead>\n    <tr style=\"text-align: right;\">\n      <th></th>\n      <th>id</th>\n      <th>link</th>\n      <th>content</th>\n      <th>date</th>\n      <th>retweets</th>\n      <th>favorites</th>\n      <th>mentions</th>\n      <th>hashtags</th>\n    </tr>\n  </thead>\n  <tbody>\n    <tr>\n      <th>0</th>\n      <td>1698308935</td>\n      <td>https://twitter.com/realDonaldTrump/status/169...</td>\n      <td>Be sure to tune in and watch Donald Trump on L...</td>\n      <td>2009-05-04 13:54:25</td>\n      <td>501</td>\n      <td>879</td>\n      <td>NaN</td>\n      <td>NaN</td>\n    </tr>\n    <tr>\n      <th>1</th>\n      <td>1701461182</td>\n      <td>https://twitter.com/realDonaldTrump/status/170...</td>\n      <td>Donald Trump will be appearing on The View tom...</td>\n      <td>2009-05-04 20:00:10</td>\n      <td>33</td>\n      <td>271</td>\n      <td>NaN</td>\n      <td>NaN</td>\n    </tr>\n    <tr>\n      <th>2</th>\n      <td>1737479987</td>\n      <td>https://twitter.com/realDonaldTrump/status/173...</td>\n      <td>Donald Trump reads Top Ten Financial Tips on L...</td>\n      <td>2009-05-08 08:38:08</td>\n      <td>12</td>\n      <td>20</td>\n      <td>NaN</td>\n      <td>NaN</td>\n    </tr>\n    <tr>\n      <th>3</th>\n      <td>1741160716</td>\n      <td>https://twitter.com/realDonaldTrump/status/174...</td>\n      <td>New Blog Post: Celebrity Apprentice Finale and...</td>\n      <td>2009-05-08 15:40:15</td>\n      <td>10</td>\n      <td>26</td>\n      <td>NaN</td>\n      <td>NaN</td>\n    </tr>\n    <tr>\n      <th>4</th>\n      <td>1773561338</td>\n      <td>https://twitter.com/realDonaldTrump/status/177...</td>\n      <td>\"My persona will never be that of a wallflower...</td>\n      <td>2009-05-12 09:07:28</td>\n      <td>1373</td>\n      <td>1954</td>\n      <td>NaN</td>\n      <td>NaN</td>\n    </tr>\n    <tr>\n      <th>5</th>\n      <td>1776419923</td>\n      <td>https://twitter.com/realDonaldTrump/status/177...</td>\n      <td>Miss USA Tara Conner will not be fired - \"I've...</td>\n      <td>2009-05-12 14:21:55</td>\n      <td>28</td>\n      <td>28</td>\n      <td>NaN</td>\n      <td>NaN</td>\n    </tr>\n    <tr>\n      <th>6</th>\n      <td>1786560616</td>\n      <td>https://twitter.com/realDonaldTrump/status/178...</td>\n      <td>Listen to an interview with Donald Trump discu...</td>\n      <td>2009-05-13 12:38:28</td>\n      <td>14</td>\n      <td>17</td>\n      <td>NaN</td>\n      <td>NaN</td>\n    </tr>\n    <tr>\n      <th>7</th>\n      <td>1796477499</td>\n      <td>https://twitter.com/realDonaldTrump/status/179...</td>\n      <td>\"Strive for wholeness and keep your sense of w...</td>\n      <td>2009-05-14 11:30:40</td>\n      <td>17</td>\n      <td>27</td>\n      <td>NaN</td>\n      <td>NaN</td>\n    </tr>\n    <tr>\n      <th>8</th>\n      <td>1806258917</td>\n      <td>https://twitter.com/realDonaldTrump/status/180...</td>\n      <td>Enter the \"Think Like A Champion\" signed book ...</td>\n      <td>2009-05-15 09:13:13</td>\n      <td>14</td>\n      <td>9</td>\n      <td>NaN</td>\n      <td>NaN</td>\n    </tr>\n    <tr>\n      <th>9</th>\n      <td>1820624395</td>\n      <td>https://twitter.com/realDonaldTrump/status/182...</td>\n      <td>\"When the achiever achieves, it's not a platea...</td>\n      <td>2009-05-16 17:22:45</td>\n      <td>19</td>\n      <td>49</td>\n      <td>NaN</td>\n      <td>NaN</td>\n    </tr>\n    <tr>\n      <th>10</th>\n      <td>1826225450</td>\n      <td>https://twitter.com/realDonaldTrump/status/182...</td>\n      <td>\"Don’t be afraid of being unique - it's like b...</td>\n      <td>2009-05-17 10:00:03</td>\n      <td>37</td>\n      <td>69</td>\n      <td>NaN</td>\n      <td>NaN</td>\n    </tr>\n    <tr>\n      <th>11</th>\n      <td>1836131903</td>\n      <td>https://twitter.com/realDonaldTrump/status/183...</td>\n      <td>\"We win in our lives by having a champion's vi...</td>\n      <td>2009-05-18 09:26:00</td>\n      <td>75</td>\n      <td>127</td>\n      <td>NaN</td>\n      <td>NaN</td>\n    </tr>\n    <tr>\n      <th>12</th>\n      <td>1849558306</td>\n      <td>https://twitter.com/realDonaldTrump/status/184...</td>\n      <td>\"...these days...we could all use a little of ...</td>\n      <td>2009-05-19 12:43:39</td>\n      <td>21</td>\n      <td>23</td>\n      <td>NaN</td>\n      <td>NaN</td>\n    </tr>\n    <tr>\n      <th>13</th>\n      <td>1859044981</td>\n      <td>https://twitter.com/realDonaldTrump/status/185...</td>\n      <td>\"Always know you could be on the precipice of ...</td>\n      <td>2009-05-20 08:25:39</td>\n      <td>28</td>\n      <td>50</td>\n      <td>NaN</td>\n      <td>NaN</td>\n    </tr>\n    <tr>\n      <th>14</th>\n      <td>1864367186</td>\n      <td>https://twitter.com/realDonaldTrump/status/186...</td>\n      <td>Read a great interview with Donald Trump that ...</td>\n      <td>2009-05-20 17:29:47</td>\n      <td>9</td>\n      <td>12</td>\n      <td>NaN</td>\n      <td>NaN</td>\n    </tr>\n  </tbody>\n</table>\n</div>",
            "text/plain": "            id                                               link  \\\n0   1698308935  https://twitter.com/realDonaldTrump/status/169...   \n1   1701461182  https://twitter.com/realDonaldTrump/status/170...   \n2   1737479987  https://twitter.com/realDonaldTrump/status/173...   \n3   1741160716  https://twitter.com/realDonaldTrump/status/174...   \n4   1773561338  https://twitter.com/realDonaldTrump/status/177...   \n5   1776419923  https://twitter.com/realDonaldTrump/status/177...   \n6   1786560616  https://twitter.com/realDonaldTrump/status/178...   \n7   1796477499  https://twitter.com/realDonaldTrump/status/179...   \n8   1806258917  https://twitter.com/realDonaldTrump/status/180...   \n9   1820624395  https://twitter.com/realDonaldTrump/status/182...   \n10  1826225450  https://twitter.com/realDonaldTrump/status/182...   \n11  1836131903  https://twitter.com/realDonaldTrump/status/183...   \n12  1849558306  https://twitter.com/realDonaldTrump/status/184...   \n13  1859044981  https://twitter.com/realDonaldTrump/status/185...   \n14  1864367186  https://twitter.com/realDonaldTrump/status/186...   \n\n                                              content                 date  \\\n0   Be sure to tune in and watch Donald Trump on L...  2009-05-04 13:54:25   \n1   Donald Trump will be appearing on The View tom...  2009-05-04 20:00:10   \n2   Donald Trump reads Top Ten Financial Tips on L...  2009-05-08 08:38:08   \n3   New Blog Post: Celebrity Apprentice Finale and...  2009-05-08 15:40:15   \n4   \"My persona will never be that of a wallflower...  2009-05-12 09:07:28   \n5   Miss USA Tara Conner will not be fired - \"I've...  2009-05-12 14:21:55   \n6   Listen to an interview with Donald Trump discu...  2009-05-13 12:38:28   \n7   \"Strive for wholeness and keep your sense of w...  2009-05-14 11:30:40   \n8   Enter the \"Think Like A Champion\" signed book ...  2009-05-15 09:13:13   \n9   \"When the achiever achieves, it's not a platea...  2009-05-16 17:22:45   \n10  \"Don’t be afraid of being unique - it's like b...  2009-05-17 10:00:03   \n11  \"We win in our lives by having a champion's vi...  2009-05-18 09:26:00   \n12  \"...these days...we could all use a little of ...  2009-05-19 12:43:39   \n13  \"Always know you could be on the precipice of ...  2009-05-20 08:25:39   \n14  Read a great interview with Donald Trump that ...  2009-05-20 17:29:47   \n\n    retweets  favorites mentions hashtags  \n0        501        879      NaN      NaN  \n1         33        271      NaN      NaN  \n2         12         20      NaN      NaN  \n3         10         26      NaN      NaN  \n4       1373       1954      NaN      NaN  \n5         28         28      NaN      NaN  \n6         14         17      NaN      NaN  \n7         17         27      NaN      NaN  \n8         14          9      NaN      NaN  \n9         19         49      NaN      NaN  \n10        37         69      NaN      NaN  \n11        75        127      NaN      NaN  \n12        21         23      NaN      NaN  \n13        28         50      NaN      NaN  \n14         9         12      NaN      NaN  "
          },
          "metadata": {}
        }
      ]
    },
    {
      "metadata": {
        "trusted": true
      },
      "cell_type": "code",
      "source": "tweets = tweets[('2016-11-08' <= tweets.date) & (tweets.date <= '2017-11-08')] #from election day 2016 to the next year, for space purposes\ntweets = tweets[['content']]\ntweets.head(10)",
      "execution_count": 2,
      "outputs": [
        {
          "output_type": "execute_result",
          "execution_count": 2,
          "data": {
            "text/html": "<div>\n<style scoped>\n    .dataframe tbody tr th:only-of-type {\n        vertical-align: middle;\n    }\n\n    .dataframe tbody tr th {\n        vertical-align: top;\n    }\n\n    .dataframe thead th {\n        text-align: right;\n    }\n</style>\n<table border=\"1\" class=\"dataframe\">\n  <thead>\n    <tr style=\"text-align: right;\">\n      <th></th>\n      <th>content</th>\n    </tr>\n  </thead>\n  <tbody>\n    <tr>\n      <th>30887</th>\n      <td>Today we are going to win the great state of M...</td>\n    </tr>\n    <tr>\n      <th>30888</th>\n      <td>TODAY WE MAKE AMERICA GREAT AGAIN!</td>\n    </tr>\n    <tr>\n      <th>30889</th>\n      <td>VOTE TODAY! Go to http://vote.gop to find your...</td>\n    </tr>\n    <tr>\n      <th>30890</th>\n      <td>We need your vote. Go to the POLLS! Let's cont...</td>\n    </tr>\n    <tr>\n      <th>30891</th>\n      <td># ElectionDay http://vote.gop pic.twitter.com/...</td>\n    </tr>\n    <tr>\n      <th>30892</th>\n      <td>I will be watching the election results from T...</td>\n    </tr>\n    <tr>\n      <th>30893</th>\n      <td>Just out according to @ CNN: \"Utah officials r...</td>\n    </tr>\n    <tr>\n      <th>30894</th>\n      <td>Don't let up, keep getting out to vote - this ...</td>\n    </tr>\n    <tr>\n      <th>30895</th>\n      <td>Still time to # VoteTrump! # iVoted # Election...</td>\n    </tr>\n    <tr>\n      <th>30896</th>\n      <td>Watching the returns at 9:45pm. # ElectionNigh...</td>\n    </tr>\n  </tbody>\n</table>\n</div>",
            "text/plain": "                                                 content\n30887  Today we are going to win the great state of M...\n30888                 TODAY WE MAKE AMERICA GREAT AGAIN!\n30889  VOTE TODAY! Go to http://vote.gop to find your...\n30890  We need your vote. Go to the POLLS! Let's cont...\n30891  # ElectionDay http://vote.gop pic.twitter.com/...\n30892  I will be watching the election results from T...\n30893  Just out according to @ CNN: \"Utah officials r...\n30894  Don't let up, keep getting out to vote - this ...\n30895  Still time to # VoteTrump! # iVoted # Election...\n30896  Watching the returns at 9:45pm. # ElectionNigh..."
          },
          "metadata": {}
        }
      ]
    },
    {
      "metadata": {
        "trusted": true
      },
      "cell_type": "code",
      "source": "tweets.shape",
      "execution_count": 3,
      "outputs": [
        {
          "output_type": "execute_result",
          "execution_count": 3,
          "data": {
            "text/plain": "(2143, 1)"
          },
          "metadata": {}
        }
      ]
    },
    {
      "metadata": {
        "trusted": true
      },
      "cell_type": "code",
      "source": "import string \n\n\ndef isAscii(s):         \n    for c in s:\n        if c not in string.printable:\n            return False\n    return True\n\ntweets['content'] = tweets['content'].str.lower() #lower case all letters to reduce character count\n\ntweets['content'] = tweets['content'].apply(lambda r: ' '.join([x for x in r.split() if 'http' not in x]))#getting rid of all website/links\ntweets['content'] = tweets['content'].apply(lambda r: ' '.join([x for x in r.split() if 'pic.' not in x]))#getting rid of all linked pictures\ntweets['content'] = tweets['content'].apply(lambda r: ' '.join([x for x in r.split() if isAscii(x)]))   #to remove words that arent ascii \n#tweet['content'] = tweets['content'].decode('ascii')\n\n    \n    \ncorpus_text = '\\n'.join(tweets['content'].values) #one text for better \n\nprint(corpus_text[:2000])",
      "execution_count": 4,
      "outputs": [
        {
          "output_type": "stream",
          "text": "today we are going to win the great state of michigan and we are going to win back the white house! thank you mi! bei gerald r. ford international airport (grr)\ntoday we make america great again!\nvote today! go to to find your polling location. we are going to make america great again! # votetrump #\nwe need your vote. go to the polls! let's continue this movement! find your poll location: # electionday #\n# electionday\ni will be watching the election results from trump tower in manhattan with my family and friends. very exciting!\njust out according to @ cnn: \"utah officials report voting machine problems across entire country\"\ndon't let up, keep getting out to vote - this election is far from over! we are doing well but there is much time left. go florida!\nstill time to # votetrump! # ivoted # bei trump tower\nwatching the returns at 9:45pm. # electionnight # bei trump tower\nsuch a beautiful and important evening! the forgotten man and woman will never be forgotten again. we will all come together as never before\nhappy 241st birthday to the u.s. marine corps! thank you for your\na fantastic day in d.c. met with president obama for first time. really good meeting, great chemistry. melania liked mrs. o a lot!\njust had a very open and successful presidential election. now professional protesters, incited by the media, are protesting. very unfair!\nlove the fact that the small groups of protesters last night have passion for our great country. we will all come together and be proud!\nbusy day planned in new york. will soon be making some very important decisions on the people who will be running our government!\ntoday we express our deepest gratitude to all those who have served in our armed forces. #\nthis will prove to be a great time in the lives of all americans. we will unite and we will win, win, win!\nwow, the @ nytimes is losing thousands of subscribers because of their very poor and highly inaccurate coverage of the \"trump phenomena\"\nthe @ nytimes sent a letter to thei\n",
          "name": "stdout"
        }
      ]
    },
    {
      "metadata": {
        "trusted": true
      },
      "cell_type": "code",
      "source": "listofchars = sorted(list(set(corpus_text)))\nprint(listofchars)",
      "execution_count": 5,
      "outputs": [
        {
          "output_type": "stream",
          "text": "['\\n', ' ', '!', '\"', '#', '$', '%', '&', \"'\", '(', ')', '+', ',', '-', '.', '/', '0', '1', '2', '3', '4', '5', '6', '7', '8', '9', ':', ';', '=', '?', '@', '_', 'a', 'b', 'c', 'd', 'e', 'f', 'g', 'h', 'i', 'j', 'k', 'l', 'm', 'n', 'o', 'p', 'q', 'r', 's', 't', 'u', 'v', 'w', 'x', 'y', 'z', '{', '}']\n",
          "name": "stdout"
        }
      ]
    },
    {
      "metadata": {
        "trusted": true
      },
      "cell_type": "code",
      "source": "#mapping each character to a unique integer and vice-versa\nchar_to_indx = dict((c, i) for i, c in enumerate(listofchars))\nindx_to_char = dict((i, c) for i, c in enumerate(listofchars))",
      "execution_count": 6,
      "outputs": []
    },
    {
      "metadata": {
        "trusted": true
      },
      "cell_type": "code",
      "source": "#cut the text into sequences, and save those to a list\nseq = 40\nsteps = 3\nsentences = []\nnext_chars = []\n\n\nfor i in range(0, len(corpus_text)-seq, steps):   \n    sentences.append(corpus_text[i: i+seq])\n    next_chars.append(corpus_text[i+seq])\n\n    \n    \nx = np.zeros((len(sentences), seq, len(listofchars)), dtype=np.bool)#samples, timesteps, features\ny = np.zeros((len(sentences), len(listofchars)), dtype=np.bool)#samples, features\n\n#one hot encode the matrices\nfor i, sentence in enumerate(sentences):\n    for t, listofchar in enumerate(sentence):\n        x[i, t, char_to_indx[listofchar]] = 1\n    y[i, char_to_indx[next_chars[i]]] = 1\n\n        \nprint(len(sentences))",
      "execution_count": 7,
      "outputs": [
        {
          "output_type": "stream",
          "text": "83095\n",
          "name": "stdout"
        }
      ]
    },
    {
      "metadata": {
        "trusted": true
      },
      "cell_type": "code",
      "source": "#model architecture \nmodel = Sequential()\nmodel.add(LSTM(128, input_shape = (x.shape[1], x.shape[2]), return_sequences=True))\nmodel.add(Dropout(0.2))\nmodel.add(BatchNormalization())\n\n\nmodel.add(LSTM(64))\nmodel.add(Dropout(0.2))\nmodel.add(BatchNormalization())\n\n\n\nmodel.add(Dense(y.shape[1], activation = 'softmax'))\n\nmodel.compile(optimizer='RMSprop',loss='categorical_crossentropy',metrics=['accuracy'])\n\nmodel.summary()",
      "execution_count": 8,
      "outputs": [
        {
          "output_type": "stream",
          "text": "Model: \"sequential_1\"\n_________________________________________________________________\nLayer (type)                 Output Shape              Param #   \n=================================================================\nlstm_1 (LSTM)                (None, 40, 128)           96768     \n_________________________________________________________________\ndropout_1 (Dropout)          (None, 40, 128)           0         \n_________________________________________________________________\nbatch_normalization_1 (Batch (None, 40, 128)           512       \n_________________________________________________________________\nlstm_2 (LSTM)                (None, 64)                49408     \n_________________________________________________________________\ndropout_2 (Dropout)          (None, 64)                0         \n_________________________________________________________________\nbatch_normalization_2 (Batch (None, 64)                256       \n_________________________________________________________________\ndense_1 (Dense)              (None, 60)                3900      \n=================================================================\nTotal params: 150,844\nTrainable params: 150,460\nNon-trainable params: 384\n_________________________________________________________________\n",
          "name": "stdout"
        }
      ]
    },
    {
      "metadata": {
        "trusted": true
      },
      "cell_type": "code",
      "source": "model.fit(x, y, epochs=8, batch_size=128)\n\n",
      "execution_count": 9,
      "outputs": [
        {
          "output_type": "stream",
          "text": "Epoch 1/8\n83095/83095 [==============================] - 557s 7ms/step - loss: 2.8441 - accuracy: 0.2630\nEpoch 2/8\n83095/83095 [==============================] - 507s 6ms/step - loss: 2.2355 - accuracy: 0.3633\nEpoch 3/8\n83095/83095 [==============================] - 508s 6ms/step - loss: 2.1112 - accuracy: 0.3974\nEpoch 4/8\n83095/83095 [==============================] - 507s 6ms/step - loss: 2.0294 - accuracy: 0.4226\nEpoch 5/8\n83095/83095 [==============================] - 502s 6ms/step - loss: 1.9770 - accuracy: 0.4367\nEpoch 6/8\n83095/83095 [==============================] - 503s 6ms/step - loss: 1.9347 - accuracy: 0.4482\nEpoch 7/8\n83095/83095 [==============================] - 503s 6ms/step - loss: 1.8928 - accuracy: 0.4595\nEpoch 8/8\n83095/83095 [==============================] - 519s 6ms/step - loss: 1.8643 - accuracy: 0.4670\n",
          "name": "stdout"
        }
      ]
    },
    {
      "metadata": {
        "trusted": true
      },
      "cell_type": "code",
      "source": "#use trained model to predict characters\ndef predict_next_chars(model, seed, num_to_predict): #maybe just model instead of textmodel? if this doesnt work?\n    \n    predicted_chars = ''\n        \n    for i in range(num_to_predict):\n        x_test = np.zeros((1, seq, len(listofchars)))\n        #transform seed to numerical characters\n        for t, char in enumerate(seed):\n            x_test[0, t, char_to_indx[char]]=1\n        \n        #make predictions from seed and translate those predictions back to characters\n        x_predict = model.predict(x_test, verbose = 0)[0]\n        r = np.argmax(x_predict)                       \n        d = indx_to_char[r] \n        predicted_chars+=d\n        seed = seed[1:]+d\n    return predicted_chars\n\n\nstart_inds = [8228, 12400, 15003, 347]\n\nfor s in start_inds:\n    start_index = s\n    seed = corpus_text[start_index: start_index + seq]\n\n    predictedtext = predict_next_chars(model, seed, num_to_predict=50)\n\n\n    tweet = '['+ seed +']'+ predictedtext\n\n    print(tweet)\n",
      "execution_count": 31,
      "outputs": [
        {
          "output_type": "stream",
          "text": "[ she then said, \"we have to accept the r]epublican and the working the working the working \n[ real work begins. america will start wi]ll be and the working the working the working the \n[oeing is building a brand new 747 air fo]r the fake news and the working the working the wo\n[inue this movement! find your poll locat]ion the working the working the working the workin\n",
          "name": "stdout"
        }
      ]
    },
    {
      "metadata": {
        "trusted": true
      },
      "cell_type": "code",
      "source": "\"\"\"\nbecause of the low epochs (and maybe the smaller corpus text size, I only took one year of tweets), the model\nreverts to the same text after a couple of characters, and after anytime words like the/of are predicted. That could also be \nthe year of tweets I chose. The president was embroiled in alot of scandals right after his election,\nand chose to hammer home alot fo similar talking points in his tweets, which made it harder to train\nwith a small amount of epochs.\nWith more epochs/a larger sample of tweets, this tweet predictor should preform \nsignificantly better, but this works okay considering time/memory contraints. It predicts characters that form actual\nenglish words. Maybe if we introduced a function that generated more creative/diverse text generation, that could help\n\"\"\"",
      "execution_count": null,
      "outputs": []
    }
  ],
  "metadata": {
    "kernelspec": {
      "name": "python36",
      "display_name": "Python 3.6",
      "language": "python"
    },
    "language_info": {
      "mimetype": "text/x-python",
      "nbconvert_exporter": "python",
      "name": "python",
      "pygments_lexer": "ipython3",
      "version": "3.6.6",
      "file_extension": ".py",
      "codemirror_mode": {
        "version": 3,
        "name": "ipython"
      }
    }
  },
  "nbformat": 4,
  "nbformat_minor": 2
}